{
 "cells": [
  {
   "cell_type": "code",
   "execution_count": 1,
   "metadata": {},
   "outputs": [],
   "source": [
    "from functools import reduce\n",
    "import pandas as pd\n",
    "from itertools import product"
   ]
  },
  {
   "cell_type": "code",
   "execution_count": 2,
   "metadata": {},
   "outputs": [],
   "source": [
    "sym = {\n",
    "    'T': '⊤',\n",
    "    'F': '⊥',\n",
    "    'N': '¬',\n",
    "    'K': '∧',\n",
    "    'A': '∨',\n",
    "    'C': '→',\n",
    "    'E': '≡',\n",
    "    'D': '|',\n",
    "    'P': '↓',\n",
    "    'S': '⊻',\n",
    "}\n",
    "sym_inv = { v: k for k, v in sym.items() }"
   ]
  },
  {
   "cell_type": "code",
   "execution_count": 3,
   "metadata": {},
   "outputs": [],
   "source": [
    "def K(p,q):\n",
    "    '''Conjunction'''\n",
    "    if p == 'T' and q =='T': return 'T'\n",
    "    if p == 'T' and q =='F': return 'F'\n",
    "    if p == 'F' and q =='T': return 'F'\n",
    "    if p == 'F' and q =='F': return 'F'\n",
    "\n",
    "def A(p,q):\n",
    "    '''Disjunction'''\n",
    "    if p == 'T' and q =='T': return 'T'\n",
    "    if p == 'T' and q =='F': return 'T'\n",
    "    if p == 'F' and q =='T': return 'T'\n",
    "    if p == 'F' and q =='F': return 'F'\n",
    "    \n",
    "def C(p,q):\n",
    "    '''Conditional'''\n",
    "    if p == 'T' and q =='T': return 'T'\n",
    "    if p == 'T' and q =='F': return 'F'\n",
    "    if p == 'F' and q =='T': return 'T'\n",
    "    if p == 'F' and q =='F': return 'T'\n",
    "\n",
    "def E(p,q):\n",
    "    '''Equivalence'''\n",
    "    if p == 'T' and q =='T': return 'T'\n",
    "    if p == 'T' and q =='F': return 'F'\n",
    "    if p == 'F' and q =='T': return 'F'\n",
    "    if p == 'F' and q =='F': return 'T'\n",
    "\n",
    "def D(p,q):\n",
    "    '''Sheffer's srroke''' \n",
    "    if p == 'T' and q =='T': return 'F'\n",
    "    if p == 'T' and q =='F': return 'T'\n",
    "    if p == 'F' and q =='T': return 'T'\n",
    "    if p == 'F' and q =='F': return 'T'\n",
    "\n",
    "def P(p,q):\n",
    "    '''Peirce's arrow''' \n",
    "    if p == 'T' and q =='T': return 'F'\n",
    "    if p == 'T' and q =='F': return 'F'\n",
    "    if p == 'F' and q =='T': return 'F'\n",
    "    if p == 'F' and q =='F': return 'T'\n",
    "    \n",
    "def S(p,q):\n",
    "    '''Strong Disjunction '''\n",
    "    if p == 'T' and q =='T': return 'F'\n",
    "    if p == 'T' and q =='F': return 'T'\n",
    "    if p == 'F' and q =='T': return 'T'\n",
    "    if p == 'F' and q =='F': return 'F'\n",
    "\n",
    "    \n",
    "def N(p):\n",
    "    '''Negation'''\n",
    "    if p == 'T': return 'F'\n",
    "    if p == 'F': return 'T'\n",
    "\n",
    "rank = {\n",
    "    sym['N']: 3, \n",
    "    sym['K']: 2, \n",
    "    sym['A']: 2,\n",
    "    sym['C']: 2,\n",
    "    sym['E']: 2,\n",
    "    sym['D']: 2,\n",
    "    sym['P']: 2,\n",
    "    sym['S']: 2,\n",
    "    '(': 1,\n",
    "}"
   ]
  },
  {
   "cell_type": "code",
   "execution_count": 4,
   "metadata": {},
   "outputs": [],
   "source": [
    "connectives = ['K', 'A', 'C', 'E', 'D', 'P', 'S']\n",
    "connectives_N = connectives + ['N']"
   ]
  },
  {
   "cell_type": "code",
   "execution_count": 5,
   "metadata": {},
   "outputs": [],
   "source": [
    "def evaluate(expression):\n",
    "    ''' TFFCAN > F'''\n",
    "    expression = ' '.join(expression)\n",
    "    tokens = expression.split(' ')\n",
    "    stack = []\n",
    "    for token in tokens:\n",
    "        if token in connectives:\n",
    "            arg2 = stack.pop()\n",
    "            arg1 = stack.pop()\n",
    "            if token == 'K':\n",
    "                result = K(arg1, arg2)\n",
    "            if token == 'A':\n",
    "                result = A(arg1, arg2)\n",
    "            if token == 'C':\n",
    "                result = C(arg1, arg2)\n",
    "            if token == 'D':\n",
    "                result = D(arg1, arg2)\n",
    "            if token == 'E':\n",
    "                result = E(arg1, arg2)\n",
    "            if token == 'P':\n",
    "                result = P(arg1, arg2)\n",
    "            if token == 'S':\n",
    "                result = S(arg1, arg2)    \n",
    "            stack.append(result)\n",
    "        elif token == 'N':\n",
    "            arg = stack.pop()\n",
    "            result = N(arg)\n",
    "            stack.append(result)        \n",
    "        else:\n",
    "            stack.append(token)\n",
    "    return(stack)"
   ]
  },
  {
   "cell_type": "code",
   "execution_count": 6,
   "metadata": {},
   "outputs": [],
   "source": [
    "def set_var(form):\n",
    "    var = list(set(filter(lambda x: x not in connectives_N, form)))\n",
    "    out = sorted(var)\n",
    "    return out"
   ]
  },
  {
   "cell_type": "code",
   "execution_count": 7,
   "metadata": {},
   "outputs": [],
   "source": [
    "def gen_strings(var):\n",
    "    n = len(var)\n",
    "    out = list(product('FT', repeat = n))\n",
    "    return out"
   ]
  },
  {
   "cell_type": "code",
   "execution_count": 8,
   "metadata": {},
   "outputs": [],
   "source": [
    "def eval_form_on_val(valuation, formula):\n",
    "    var = set_var(formula)\n",
    "    val = valuation\n",
    "    new = formula\n",
    "    for i in range(len(var)):\n",
    "        new = [x.replace(var[i], val[i]) for x in new]\n",
    "    new = ''.join(new)\n",
    "    out = evaluate(new)\n",
    "    return out    "
   ]
  },
  {
   "cell_type": "code",
   "execution_count": 9,
   "metadata": {},
   "outputs": [],
   "source": [
    "def truth_table(input_formula):\n",
    "    '''Truth Table for Formula '''\n",
    "    formula = revpolish(input_formula)\n",
    "    var = set_var(formula)\n",
    "    strings = gen_strings(var)\n",
    "    out = []\n",
    "    out = out + [var + [input_formula]]\n",
    "    for string in strings:\n",
    "        out = out + [list(string) + eval_form_on_val(string,formula)]\n",
    "    return out    "
   ]
  },
  {
   "cell_type": "code",
   "execution_count": 10,
   "metadata": {},
   "outputs": [],
   "source": [
    "strletters='QWERTYUIOPASDFGHJKLZXCVBNMqwertyuiopasdfghjklzxcbnm'\n",
    "letters = ' '.join(strletters).split()"
   ]
  },
  {
   "cell_type": "code",
   "execution_count": 11,
   "metadata": {},
   "outputs": [],
   "source": [
    "def revpolish(formula):\n",
    "    tokens = ' '.join(formula).split()\n",
    "    stack=[]\n",
    "    out=[]\n",
    "    for token in tokens:\n",
    "        if token in letters:\n",
    "            out.append(token)\n",
    "        if token =='(':\n",
    "            stack.append(token)\n",
    "        elif token in rank:\n",
    "            if  stack == [] or rank[token] > rank[stack[-1]]: # > или >= ???\n",
    "                stack.append(token)\n",
    "            else:\n",
    "                count = 0\n",
    "                for i in range(len(stack)):\n",
    "                    if rank[stack[-i-1]] > rank[token]:\n",
    "                        out.append(stack[-i-1])\n",
    "                        count=count+1\n",
    "                    else:\n",
    "                        break\n",
    "                x = 0 \n",
    "                while x < count and x!=[]:\n",
    "                    stack.pop()\n",
    "                    x = x+1\n",
    "                stack.append(token)\n",
    "        if token ==')':\n",
    "            x = stack.pop()\n",
    "            while x != '(':\n",
    "                out.append(x)\n",
    "                x = stack.pop()\n",
    "    while stack!=[]:\n",
    "        out.append(stack.pop())\n",
    "\n",
    "    def replace(lst):\n",
    "        new = list(map(lambda x: sym_inv[x] if x in sym_inv else x, lst))\n",
    "        return new\n",
    "\n",
    "    out = replace(out)\n",
    "    out = ''.join(out)\n",
    "    return(out)"
   ]
  },
  {
   "cell_type": "code",
   "execution_count": 12,
   "metadata": {},
   "outputs": [],
   "source": [
    "def replace_TF(var1,var2, string):\n",
    "    new_string = [x.replace('T', var1) for x in string]\n",
    "    new_string = [x.replace('F', var2) for x in new_string]\n",
    "    return new_string"
   ]
  },
  {
   "cell_type": "code",
   "execution_count": 13,
   "metadata": {},
   "outputs": [],
   "source": [
    "def replace_TF_table(x,y,tab):\n",
    "    table_h = tab[0]\n",
    "    table_t = tab[1:]\n",
    "    table_t = list(map (lambda z: replace_TF(x, y, z), table_t))\n",
    "    new_table = [table_h] + table_t\n",
    "    return new_table"
   ]
  },
  {
   "cell_type": "code",
   "execution_count": 14,
   "metadata": {},
   "outputs": [],
   "source": [
    "def print_truth_table(formula, x='T', y='F'):\n",
    "    table = truth_table(formula)\n",
    "    table = replace_TF_table(x, y, table)\n",
    "    return table\n",
    "    df = pd.DataFrame(table[1:], columns=table[0])\n",
    "    df = df.style.set_properties(**{'text-align': 'center'})\n",
    "    return df"
   ]
  },
  {
   "cell_type": "code",
   "execution_count": 15,
   "metadata": {
    "scrolled": true
   },
   "outputs": [
    {
     "data": {
      "text/plain": [
       "[['p', 'q', 'r', 's', 't', '(p∧(q∨r))→¬(s|t)'],\n",
       " ['0', '0', '0', '0', '0', '1'],\n",
       " ['0', '0', '0', '0', '1', '1'],\n",
       " ['0', '0', '0', '1', '0', '1'],\n",
       " ['0', '0', '0', '1', '1', '1'],\n",
       " ['0', '0', '1', '0', '0', '1'],\n",
       " ['0', '0', '1', '0', '1', '1'],\n",
       " ['0', '0', '1', '1', '0', '1'],\n",
       " ['0', '0', '1', '1', '1', '1'],\n",
       " ['0', '1', '0', '0', '0', '1'],\n",
       " ['0', '1', '0', '0', '1', '1'],\n",
       " ['0', '1', '0', '1', '0', '1'],\n",
       " ['0', '1', '0', '1', '1', '1'],\n",
       " ['0', '1', '1', '0', '0', '1'],\n",
       " ['0', '1', '1', '0', '1', '1'],\n",
       " ['0', '1', '1', '1', '0', '1'],\n",
       " ['0', '1', '1', '1', '1', '1'],\n",
       " ['1', '0', '0', '0', '0', '1'],\n",
       " ['1', '0', '0', '0', '1', '1'],\n",
       " ['1', '0', '0', '1', '0', '1'],\n",
       " ['1', '0', '0', '1', '1', '1'],\n",
       " ['1', '0', '1', '0', '0', '0'],\n",
       " ['1', '0', '1', '0', '1', '0'],\n",
       " ['1', '0', '1', '1', '0', '0'],\n",
       " ['1', '0', '1', '1', '1', '1'],\n",
       " ['1', '1', '0', '0', '0', '0'],\n",
       " ['1', '1', '0', '0', '1', '0'],\n",
       " ['1', '1', '0', '1', '0', '0'],\n",
       " ['1', '1', '0', '1', '1', '1'],\n",
       " ['1', '1', '1', '0', '0', '0'],\n",
       " ['1', '1', '1', '0', '1', '0'],\n",
       " ['1', '1', '1', '1', '0', '0'],\n",
       " ['1', '1', '1', '1', '1', '1']]"
      ]
     },
     "execution_count": 15,
     "metadata": {},
     "output_type": "execute_result"
    }
   ],
   "source": [
    "form='(p∧(q∨r))→¬(s|t)'\n",
    "# print_truth_table(form,'⊤','⊥')\n",
    "print_truth_table(form, '1', '0')"
   ]
  },
  {
   "cell_type": "code",
   "execution_count": 16,
   "metadata": {},
   "outputs": [
    {
     "data": {
      "text/plain": [
       "'pqrAKstDNC'"
      ]
     },
     "execution_count": 16,
     "metadata": {},
     "output_type": "execute_result"
    }
   ],
   "source": [
    "revpolish(form)"
   ]
  },
  {
   "cell_type": "code",
   "execution_count": 17,
   "metadata": {},
   "outputs": [],
   "source": [
    "def truth_table_for_list(list_of_formulas):\n",
    "    \n",
    "    def variables_in_list_of_formulas(list_of_formulas):\n",
    "        list_of_formulas = list(map(revpolish, list_of_formulas))\n",
    "        out = sorted(list(set(reduce(lambda x, y: x+y, list(map(set_var, list_of_formulas))))))\n",
    "        return out\n",
    "    \n",
    "    def eval_form_on_val_d(d_valuation, formula):\n",
    "        var = set_var(formula)\n",
    "        new = formula\n",
    "        for v in var:\n",
    "            new = [x.replace(v, d_valuation[v]) for x in new]\n",
    "        new = ''.join(new)\n",
    "        out = evaluate(new)\n",
    "        return out\n",
    "    \n",
    "    formulas = list(map(revpolish, list_of_formulas))\n",
    "    var = variables_in_list_of_formulas(formulas)\n",
    "    strings = gen_strings(var)\n",
    "    \n",
    "    def string_var_to_dstring(somevar, somestring):\n",
    "        return dict(zip(somevar, somestring))\n",
    "    \n",
    "    strings_d = list(map(lambda x: string_var_to_dstring(var, x), strings))\n",
    "    \n",
    "    def eval_list_of_formulas_on_string_d(dstring, lformulas):\n",
    "        out = list(map(lambda x: eval_form_on_val_d(dstring, x), lformulas))\n",
    "        out = list(map(lambda x: x[0], out))\n",
    "        return out\n",
    "    \n",
    "    out=[var+list_of_formulas]\n",
    "    for string in strings:\n",
    "        res = eval_list_of_formulas_on_string_d(string_var_to_dstring(var,string),formulas)\n",
    "        out = out + [list(string) + res]\n",
    "    \n",
    "    return out"
   ]
  },
  {
   "cell_type": "code",
   "execution_count": 18,
   "metadata": {},
   "outputs": [],
   "source": [
    "def print_truth_table_for_list(lst, x='T', y='F'):\n",
    "    table = truth_table_for_list(lst)\n",
    "    table = replace_TF_table(x, y, table)\n",
    "    return table\n",
    "    df = pd.DataFrame(table[1:], columns=table[0])  # вы\n",
    "#   df = df.to_html()\n",
    "    df = df.style.set_properties(**{'text-align': 'center'})\n",
    "    return df"
   ]
  },
  {
   "cell_type": "code",
   "execution_count": 19,
   "metadata": {},
   "outputs": [
    {
     "data": {
      "text/plain": [
       "[['p', 'q', 'r', 's', 't', '((p→q)→(r→s))→t', 'p→q', '(p∧(q∨r))→¬(s|t)'],\n",
       " ['0', '0', '0', '0', '0', '0', '1', '1'],\n",
       " ['0', '0', '0', '0', '1', '1', '1', '1'],\n",
       " ['0', '0', '0', '1', '0', '0', '1', '1'],\n",
       " ['0', '0', '0', '1', '1', '1', '1', '1'],\n",
       " ['0', '0', '1', '0', '0', '1', '1', '1'],\n",
       " ['0', '0', '1', '0', '1', '1', '1', '1'],\n",
       " ['0', '0', '1', '1', '0', '0', '1', '1'],\n",
       " ['0', '0', '1', '1', '1', '1', '1', '1'],\n",
       " ['0', '1', '0', '0', '0', '0', '1', '1'],\n",
       " ['0', '1', '0', '0', '1', '1', '1', '1'],\n",
       " ['0', '1', '0', '1', '0', '0', '1', '1'],\n",
       " ['0', '1', '0', '1', '1', '1', '1', '1'],\n",
       " ['0', '1', '1', '0', '0', '1', '1', '1'],\n",
       " ['0', '1', '1', '0', '1', '1', '1', '1'],\n",
       " ['0', '1', '1', '1', '0', '0', '1', '1'],\n",
       " ['0', '1', '1', '1', '1', '1', '1', '1'],\n",
       " ['1', '0', '0', '0', '0', '0', '0', '1'],\n",
       " ['1', '0', '0', '0', '1', '1', '0', '1'],\n",
       " ['1', '0', '0', '1', '0', '0', '0', '1'],\n",
       " ['1', '0', '0', '1', '1', '1', '0', '1'],\n",
       " ['1', '0', '1', '0', '0', '0', '0', '0'],\n",
       " ['1', '0', '1', '0', '1', '1', '0', '0'],\n",
       " ['1', '0', '1', '1', '0', '0', '0', '0'],\n",
       " ['1', '0', '1', '1', '1', '1', '0', '1'],\n",
       " ['1', '1', '0', '0', '0', '0', '1', '0'],\n",
       " ['1', '1', '0', '0', '1', '1', '1', '0'],\n",
       " ['1', '1', '0', '1', '0', '0', '1', '0'],\n",
       " ['1', '1', '0', '1', '1', '1', '1', '1'],\n",
       " ['1', '1', '1', '0', '0', '1', '1', '0'],\n",
       " ['1', '1', '1', '0', '1', '1', '1', '0'],\n",
       " ['1', '1', '1', '1', '0', '0', '1', '0'],\n",
       " ['1', '1', '1', '1', '1', '1', '1', '1']]"
      ]
     },
     "execution_count": 19,
     "metadata": {},
     "output_type": "execute_result"
    }
   ],
   "source": [
    "print_truth_table_for_list(['((p→q)→(r→s))→t', 'p→q', '(p∧(q∨r))→¬(s|t)'], '1', '0')"
   ]
  },
  {
   "cell_type": "code",
   "execution_count": 20,
   "metadata": {},
   "outputs": [],
   "source": [
    "def print_truth_table_(formula, x='T', y='F'):\n",
    "    return print_truth_table_for_list([formula], x, y)"
   ]
  },
  {
   "cell_type": "code",
   "execution_count": 21,
   "metadata": {},
   "outputs": [
    {
     "data": {
      "text/plain": [
       "[['p', 'q', 'p∧q'],\n",
       " ['0', '0', '0'],\n",
       " ['0', '1', '0'],\n",
       " ['1', '0', '0'],\n",
       " ['1', '1', '1']]"
      ]
     },
     "execution_count": 21,
     "metadata": {},
     "output_type": "execute_result"
    }
   ],
   "source": [
    "print_truth_table_('p∧q', '1', '0')"
   ]
  },
  {
   "cell_type": "code",
   "execution_count": 22,
   "metadata": {},
   "outputs": [],
   "source": [
    "def print_truth_table_html(formula, x='T', y='F'):\n",
    "    table = truth_table_for_list([formula])\n",
    "    table = replace_TF_table(x, y, table)\n",
    "    df = pd.DataFrame(table[1:], columns=table[0])  # вы\n",
    "    df = df.to_html()\n",
    "    return df"
   ]
  },
  {
   "cell_type": "code",
   "execution_count": 23,
   "metadata": {},
   "outputs": [
    {
     "name": "stdout",
     "output_type": "stream",
     "text": [
      "<table border=\"1\" class=\"dataframe\">\n",
      "  <thead>\n",
      "    <tr style=\"text-align: right;\">\n",
      "      <th></th>\n",
      "      <th>p</th>\n",
      "      <th>q</th>\n",
      "      <th>p∧q</th>\n",
      "    </tr>\n",
      "  </thead>\n",
      "  <tbody>\n",
      "    <tr>\n",
      "      <th>0</th>\n",
      "      <td>F</td>\n",
      "      <td>F</td>\n",
      "      <td>F</td>\n",
      "    </tr>\n",
      "    <tr>\n",
      "      <th>1</th>\n",
      "      <td>F</td>\n",
      "      <td>T</td>\n",
      "      <td>F</td>\n",
      "    </tr>\n",
      "    <tr>\n",
      "      <th>2</th>\n",
      "      <td>T</td>\n",
      "      <td>F</td>\n",
      "      <td>F</td>\n",
      "    </tr>\n",
      "    <tr>\n",
      "      <th>3</th>\n",
      "      <td>T</td>\n",
      "      <td>T</td>\n",
      "      <td>T</td>\n",
      "    </tr>\n",
      "  </tbody>\n",
      "</table>\n"
     ]
    }
   ],
   "source": [
    "print(print_truth_table_html('p∧q'))"
   ]
  },
  {
   "cell_type": "code",
   "execution_count": null,
   "metadata": {},
   "outputs": [],
   "source": []
  },
  {
   "cell_type": "code",
   "execution_count": null,
   "metadata": {},
   "outputs": [],
   "source": []
  }
 ],
 "metadata": {
  "anaconda-cloud": {},
  "kernelspec": {
   "display_name": "Python 3",
   "language": "python",
   "name": "python3"
  },
  "language_info": {
   "codemirror_mode": {
    "name": "ipython",
    "version": 3
   },
   "file_extension": ".py",
   "mimetype": "text/x-python",
   "name": "python",
   "nbconvert_exporter": "python",
   "pygments_lexer": "ipython3",
   "version": "3.8.5"
  }
 },
 "nbformat": 4,
 "nbformat_minor": 2
}
